{
 "cells": [
  {
   "cell_type": "markdown",
   "metadata": {},
   "source": [
    "                    GNU GENERAL PUBLIC LICENSE\n",
    "                       Version 3, 29 June 2007"
   ]
  },
  {
   "cell_type": "markdown",
   "metadata": {},
   "source": [
    "Ejecutar secuencialmente cada celda del notebook, cambiando segun corresponda los nombres de archivo."
   ]
  },
  {
   "cell_type": "code",
   "execution_count": 1,
   "metadata": {
    "collapsed": false
   },
   "outputs": [],
   "source": [
    "from Bio import SeqIO\n",
    "# para leer fasta\n",
    "# si da error \"No module named Bio\", \n",
    "# install Biopython, ej: pip install Biopython o sudo apt-get install python-biopython"
   ]
  },
  {
   "cell_type": "code",
   "execution_count": 3,
   "metadata": {
    "collapsed": false
   },
   "outputs": [],
   "source": [
    "#lectura de secuencias objetivo\n",
    "records=list(SeqIO.parse(\"DQB 9F.fa\", \"fasta\"))\n",
    "\n",
    "#Aqui deberia prever la lectura de los leidos del cromatograma en R"
   ]
  },
  {
   "cell_type": "code",
   "execution_count": 4,
   "metadata": {
    "collapsed": false
   },
   "outputs": [
    {
     "data": {
      "text/plain": [
       "SeqRecord(seq=Seq('GATTTCGTGTACCAGTTTAAGTTCGAGTGCTATTTCACCAACGGGACGGGAGCG...GGT', SingleLetterAlphabet()), id='DQB9F', name='DQB9F', description='DQB9F', dbxrefs=[])"
      ]
     },
     "execution_count": 4,
     "metadata": {},
     "output_type": "execute_result"
    }
   ],
   "source": [
    "records[0]"
   ]
  },
  {
   "cell_type": "code",
   "execution_count": 5,
   "metadata": {
    "collapsed": false
   },
   "outputs": [
    {
     "ename": "IndexError",
     "evalue": "list index out of range",
     "output_type": "error",
     "traceback": [
      "\u001b[0;31m---------------------------------------------------------------------------\u001b[0m",
      "\u001b[0;31mIndexError\u001b[0m                                Traceback (most recent call last)",
      "\u001b[0;32m<ipython-input-5-e72579b95bd1>\u001b[0m in \u001b[0;36m<module>\u001b[0;34m()\u001b[0m\n\u001b[1;32m      2\u001b[0m \u001b[0mseq\u001b[0m\u001b[0;34m=\u001b[0m\u001b[0;34m[\u001b[0m\u001b[0mstr\u001b[0m\u001b[0;34m(\u001b[0m\u001b[0mr\u001b[0m\u001b[0;34m.\u001b[0m\u001b[0mseq\u001b[0m\u001b[0;34m)\u001b[0m \u001b[0;32mfor\u001b[0m \u001b[0mr\u001b[0m \u001b[0;32min\u001b[0m \u001b[0mrecords\u001b[0m\u001b[0;34m]\u001b[0m\u001b[0;34m\u001b[0m\u001b[0m\n\u001b[1;32m      3\u001b[0m \u001b[0mdesc\u001b[0m\u001b[0;34m=\u001b[0m\u001b[0;34m[\u001b[0m\u001b[0mstr\u001b[0m\u001b[0;34m(\u001b[0m\u001b[0mr\u001b[0m\u001b[0;34m.\u001b[0m\u001b[0mdescription\u001b[0m\u001b[0;34m)\u001b[0m\u001b[0;34m.\u001b[0m\u001b[0mstrip\u001b[0m\u001b[0;34m(\u001b[0m\u001b[0;34m)\u001b[0m \u001b[0;32mfor\u001b[0m \u001b[0mr\u001b[0m \u001b[0;32min\u001b[0m \u001b[0mrecords\u001b[0m\u001b[0;34m]\u001b[0m\u001b[0;34m\u001b[0m\u001b[0m\n\u001b[0;32m----> 4\u001b[0;31m \u001b[0;32mprint\u001b[0m \u001b[0mdesc\u001b[0m\u001b[0;34m[\u001b[0m\u001b[0;36m1\u001b[0m\u001b[0;34m]\u001b[0m\u001b[0;34m\u001b[0m\u001b[0m\n\u001b[0m\u001b[1;32m      5\u001b[0m \u001b[0;32mprint\u001b[0m \u001b[0mseq\u001b[0m\u001b[0;34m[\u001b[0m\u001b[0;36m1\u001b[0m\u001b[0;34m]\u001b[0m\u001b[0;34m\u001b[0m\u001b[0m\n\u001b[1;32m      6\u001b[0m \u001b[0;31m#convierto las secuencias en strings - OJO QUE DEJO EL ID\u001b[0m\u001b[0;34m\u001b[0m\u001b[0;34m\u001b[0m\u001b[0m\n",
      "\u001b[0;31mIndexError\u001b[0m: list index out of range"
     ]
    }
   ],
   "source": [
    "#convierto las secuencias a strings y dscripciones\n",
    "seq=[str(r.seq) for r in records]\n",
    "desc=[str(r.description).strip() for r in records]\n",
    "print desc[1]\n",
    "print seq[1]\n",
    "#convierto las secuencias en strings - OJO QUE DEJO EL ID\n"
   ]
  },
  {
   "cell_type": "code",
   "execution_count": 6,
   "metadata": {
    "collapsed": false
   },
   "outputs": [],
   "source": [
    "def seq_a_lista(s):\n",
    "    #recibe un string y devuelve una lista\n",
    "    # proceso las [A/G] eliminando los [] y uniendo los dos valores en torno a / como listas\n",
    "    # TODO: ver que pasa con los [./.]. De movida debe quedar .. ya que no estoy usando sets, que eliminarian la duplicación\n",
    "    s=s.replace('[','').replace(']','')\n",
    "    sl= [x for x in s]\n",
    "    for i,x in enumerate(sl):\n",
    "        if x=='/':\n",
    "            sl[i-1]+=sl[i+1]\n",
    "            del sl[i:i+2]\n",
    "    return sl\n",
    "\n",
    "def lista_a_seq(l):\n",
    "    '''recibe una lista y devuelve un string con corchetes y barra en los polimorfismos\n",
    "    '''\n",
    "    ll=[x if len(x)<2 else '[' + x[0] + '/' + x[1] + ']' for x in l] #'/'.join(x)\n",
    "    return ''.join(ll)\n",
    "    \n",
    "def seq_a_string(s):\n",
    "    '''recibe un string con corchetes, lo transforma en lista y lo traduce a IUPAC\n",
    "    '''\n",
    "    return lista_a_iupac(seq_a_lista(s))\n",
    "\n",
    "def guion_a_vacio(l): # creo que ya no se usa, ver. recibe un string o una lista y convierte guiones en vacíos\n",
    "    return [ x if (x<>'-')  else '' for x in la]\n",
    "\n",
    "def vacio_a_guion(l):\n",
    "    '''recibe una lista y convierte los vacíos en guiones -\n",
    "       si recibe un string lo devuelve tal cual\n",
    "    '''\n",
    "    return [ x if x else '-' for x in l]\n",
    "\n",
    "def unir_haplotipos(la,lb):\n",
    "    '''recibe dos listas de haplotipos de referencia\n",
    "       maneja secuencias con guiones y las convierte a listas con vacíos\n",
    "       devuelve una lista de la union de las dos listas elemento a elemento como conjunto (sin duplicados)\n",
    "    '''\n",
    "    la=[ x if (x<>'-')  else '' for x in la]\n",
    "    lb=[ x if (x<>'-')  else '' for x in lb]\n",
    "    return [''.join(list(set(la[i]+lb[i]))) for i in range(len(la))]\n",
    "\n",
    "def ref_haplo(la):\n",
    "    '''recibe un haplotipo de referencia, con los guiones convertidos en vacíos\n",
    "       completa los guiones - con los datos del haplotipo de referencia\n",
    "       \n",
    "    '''\n",
    "    return [ refseq[i] if not x or x=='-'  else x for i,x in enumerate(la)]\n",
    "    #return [ x if (x in 'ACGT')  else refseq[i] for i,x in enumerate(la)] ## no son equivalentes, y este funciona siempre? Ver   "
   ]
  },
  {
   "cell_type": "code",
   "execution_count": 7,
   "metadata": {
    "collapsed": false
   },
   "outputs": [
    {
     "name": "stdout",
     "output_type": "stream",
     "text": [
      "1\n"
     ]
    }
   ],
   "source": [
    "print len(seq)"
   ]
  },
  {
   "cell_type": "code",
   "execution_count": 8,
   "metadata": {
    "collapsed": false
   },
   "outputs": [
    {
     "name": "stdout",
     "output_type": "stream",
     "text": [
      "G A T T T C G T G T A C C A G T T T A A G T T C G A G T G C T A T T T C A C C A A C G G G A C G G G A G C G G G T G C G G C T T C T G A C T A A A T A C A T C T A T A A C C G G G A G G A G T T C G T G C G C T T C G A C A G C G A C G T G G G G G A G T A C C G G G C G G T C A C G G A G C T C G G G C G G C C C G A C G C T G A G T A C T G G A A C C C G C A G A A G G A C G A G A T G G A C C G G G T A C G G G C C G A G C T G G A C A C G G T G T G C A G A C A C A A C T A C G G G G T G G A A G A G C T C A C C A C G T T G C A G C G G C G A G G T\n"
     ]
    }
   ],
   "source": [
    "for s in seq: #imprimo separado por espacios para ver\n",
    "    print ' '.join(seq_a_lista(s))"
   ]
  },
  {
   "cell_type": "code",
   "execution_count": 10,
   "metadata": {
    "collapsed": false
   },
   "outputs": [],
   "source": [
    "#lectura del alineamiento\n",
    "f=open('alineamiento DQB1.txt')\n",
    "lineas=f.readlines()\n",
    "\n",
    "# Queda en el diccionario d hasheado por id\n",
    "d={}\n",
    "ref=''\n",
    "for i,l in enumerate(lineas):\n",
    "    if (len(l)>20 and l[0]==' ' and l[1]!=' '): # uso un patron para identificar las lineas con datos\n",
    "        id= l[:20].strip() #las corto por ancho fijo del id\n",
    "        #print i, id\n",
    "        sseq= l[21:].replace(' ','').rstrip() # elimino espacis\n",
    "        #print id\n",
    "        #print seq\n",
    "        if id in d.keys(): # y las guardo (concatenadas) en un diccionario indexado por id\n",
    "            d[id]+=sseq\n",
    "        else:\n",
    "            d[id]=sseq\n",
    "        if not ref: ref=id # me estoy quedando con la primera secuencia asumiendo que es la de referencia\n",
    "        d[id]=d[id].replace('*','-')\n",
    "f.close()\n"
   ]
  },
  {
   "cell_type": "code",
   "execution_count": 11,
   "metadata": {
    "collapsed": false
   },
   "outputs": [
    {
     "name": "stdout",
     "output_type": "stream",
     "text": [
      "DLA-DQB1*00101 GATTTCGTGTACCAGTTTAAGGGCGAGTGCTATTTCACCAACGGGACGGAGCGGGTGCGGCTTCTGACGAGAGACATCTATAACCGGGAGGAGCACGTGCGCTTCGACAGCGACGTGGGGGAGTACCGGGCGGTCACGGAGCTCGGGCGGCCGGACGCTGAGTACTGGAACGGGCAGAAGGAGCTCTTGGAGCGGAGGCGGGCCGAGGTGGACACGGTGTGCAGACACAACTACGGGAGGGAAGAGCTCACCACGTTGCAGCGGCGA\n"
     ]
    }
   ],
   "source": [
    "# no hace falta, pero pongo la secuencia de referencia en esta variable (despues reorganizo) ## La uso??\n",
    "ref\n",
    "refseq = d[ref]\n",
    "print ref, refseq"
   ]
  },
  {
   "cell_type": "code",
   "execution_count": 12,
   "metadata": {
    "collapsed": false
   },
   "outputs": [
    {
     "name": "stdout",
     "output_type": "stream",
     "text": [
      "[['G', 'A', 'T', 'T', 'T', 'C', 'G', 'T', 'G', 'T', 'A', 'C', 'C', 'A', 'G', 'T', 'T', 'T', 'A', 'A', 'G', 'T', 'T', 'C', 'G', 'A', 'G', 'T', 'G', 'C', 'T', 'A', 'T', 'T', 'T', 'C', 'A', 'C', 'C', 'A', 'A', 'C', 'G', 'G', 'G', 'A', 'C', 'G', 'G', 'G', 'A', 'G', 'C', 'G', 'G', 'G', 'T', 'G', 'C', 'G', 'G', 'C', 'T', 'T', 'C', 'T', 'G', 'A', 'C', 'T', 'A', 'A', 'A', 'T', 'A', 'C', 'A', 'T', 'C', 'T', 'A', 'T', 'A', 'A', 'C', 'C', 'G', 'G', 'G', 'A', 'G', 'G', 'A', 'G', 'T', 'T', 'C', 'G', 'T', 'G', 'C', 'G', 'C', 'T', 'T', 'C', 'G', 'A', 'C', 'A', 'G', 'C', 'G', 'A', 'C', 'G', 'T', 'G', 'G', 'G', 'G', 'G', 'A', 'G', 'T', 'A', 'C', 'C', 'G', 'G', 'G', 'C', 'G', 'G', 'T', 'C', 'A', 'C', 'G', 'G', 'A', 'G', 'C', 'T', 'C', 'G', 'G', 'G', 'C', 'G', 'G', 'C', 'C', 'C', 'G', 'A', 'C', 'G', 'C', 'T', 'G', 'A', 'G', 'T', 'A', 'C', 'T', 'G', 'G', 'A', 'A', 'C', 'C', 'C', 'G', 'C', 'A', 'G', 'A', 'A', 'G', 'G', 'A', 'C', 'G', 'A', 'G', 'A', 'T', 'G', 'G', 'A', 'C', 'C', 'G', 'G', 'G', 'T', 'A', 'C', 'G', 'G', 'G', 'C', 'C', 'G', 'A', 'G', 'C', 'T', 'G', 'G', 'A', 'C', 'A', 'C', 'G', 'G', 'T', 'G', 'T', 'G', 'C', 'A', 'G', 'A', 'C', 'A', 'C', 'A', 'A', 'C', 'T', 'A', 'C', 'G', 'G', 'G', 'G', 'T', 'G', 'G', 'A', 'A', 'G', 'A', 'G', 'C', 'T', 'C', 'A', 'C', 'C', 'A', 'C', 'G', 'T', 'T', 'G', 'C', 'A', 'G', 'C', 'G', 'G', 'C', 'G', 'A', 'G', 'G', 'T']]\n"
     ]
    }
   ],
   "source": [
    "seqs=[]\n",
    "for s in seq:\n",
    "    seqs.append(seq_a_lista(s))\n",
    "print seqs"
   ]
  },
  {
   "cell_type": "code",
   "execution_count": 13,
   "metadata": {
    "collapsed": false
   },
   "outputs": [
    {
     "name": "stdout",
     "output_type": "stream",
     "text": [
      "['G', 'A', 'T', 'T', 'T', 'C', 'G', 'T', 'G', 'T', 'A', 'C', 'C', 'A', 'G', 'T', 'T', 'T', 'A', 'A', 'G', 'T', 'T', 'C', 'G', 'A', 'G', 'T', 'G', 'C', 'T', 'A', 'T', 'T', 'T', 'C', 'A', 'C', 'C', 'A', 'A', 'C', 'G', 'G', 'G', 'A', 'C', 'G', 'G', 'G', 'A', 'G', 'C', 'G', 'G', 'G', 'T', 'G', 'C', 'G', 'G', 'C', 'T', 'T', 'C', 'T', 'G', 'A', 'C', 'T', 'A', 'A', 'A', 'T', 'A', 'C', 'A', 'T', 'C', 'T', 'A', 'T', 'A', 'A', 'C', 'C', 'G', 'G', 'G', 'A', 'G', 'G', 'A', 'G', 'T', 'T', 'C', 'G', 'T', 'G', 'C', 'G', 'C', 'T', 'T', 'C', 'G', 'A', 'C', 'A', 'G', 'C', 'G', 'A', 'C', 'G', 'T', 'G', 'G', 'G', 'G', 'G', 'A', 'G', 'T', 'A', 'C', 'C', 'G', 'G', 'G', 'C', 'G', 'G', 'T', 'C', 'A', 'C', 'G', 'G', 'A', 'G', 'C', 'T', 'C', 'G', 'G', 'G', 'C', 'G', 'G', 'C', 'C', 'C', 'G', 'A', 'C', 'G', 'C', 'T', 'G', 'A', 'G', 'T', 'A', 'C', 'T', 'G', 'G', 'A', 'A', 'C', 'C', 'C', 'G', 'C', 'A', 'G', 'A', 'A', 'G', 'G', 'A', 'C', 'G', 'A', 'G', 'A', 'T', 'G', 'G', 'A', 'C', 'C', 'G', 'G', 'G', 'T', 'A', 'C', 'G', 'G', 'G', 'C', 'C', 'G', 'A', 'G', 'C', 'T', 'G', 'G', 'A', 'C', 'A', 'C', 'G', 'G', 'T', 'G', 'T', 'G', 'C', 'A', 'G', 'A', 'C', 'A', 'C', 'A', 'A', 'C', 'T', 'A', 'C', 'G', 'G', 'G', 'G', 'T', 'G', 'G', 'A', 'A', 'G', 'A', 'G', 'C', 'T', 'C', 'A', 'C', 'C', 'A', 'C', 'G', 'T', 'T', 'G', 'C', 'A', 'G', 'C', 'G', 'G', 'C', 'G', 'A', 'G', 'G', 'T']\n"
     ]
    }
   ],
   "source": [
    "print seqs[0]"
   ]
  },
  {
   "cell_type": "code",
   "execution_count": 14,
   "metadata": {
    "collapsed": false
   },
   "outputs": [
    {
     "name": "stdout",
     "output_type": "stream",
     "text": [
      "36 ['DLA-DQB1*01701', 'DLA-DQB1*01401', 'DLA-DQB1*02201', 'DLA-DQB1*008012', 'DLA-DQB1*01501', 'DLA-DQB1*02801', 'DLA-DQB1*01201', 'DLA-DQB1*00101', 'DLA-DQB1*02401', 'DLA-DQB1*03001', 'DLA-DQB1*02601', 'DLA-DQB1*02101', 'DLA-DQB1*01801', 'DLA-DQB1*01901', 'DLA-DQB1*02701', 'DLA-DQB1*00802', 'DLA-DQB1*03101', 'DLA-DQB1*01301', 'DLA-DQB1*01302', 'DLA-DQB1*01303', 'DLA-DQB1*03201', 'DLA-DQB1*00301', 'DLA-DQB1*01101', 'DLA-DQB1*02301', 'DLA-DQB1*00201', 'DLA-DQB1*03401', 'DLA-DQB1*00501', 'DLA-DQB1*00502', 'DLA-DQB1*03501', 'DLA-DQB1*00401', 'DLA-DQB1*008011', 'DLA-DQB1*00701', 'DLA-DQB1*01601', 'DLA-DQB1*03301', 'DLA-DQB1*02002', 'DLA-DQB1*02001']\n"
     ]
    }
   ],
   "source": [
    "print len(d), d.keys()"
   ]
  },
  {
   "cell_type": "code",
   "execution_count": 15,
   "metadata": {
    "collapsed": false
   },
   "outputs": [],
   "source": [
    "#Generación de todos los haplotipos posibles\n",
    "haplos=[]\n",
    "hh=d.keys()\n",
    "f=open('haplos.log','w')\n",
    "\n",
    "def log(l): #aca defino la funcion para generar los logs\n",
    "    for x in l:\n",
    "        f.write(str(x))\n",
    "    f.write('\\n')\n",
    "    \n",
    "for x in hh:\n",
    "    for y in hh:\n",
    "        log((x,y))#print x,y\n",
    "        log(('x :', d[x]))#print 'x:', d[x]\n",
    "        log(('y :', d[y]))#print 'y:', d[y]\n",
    "        log(('xr:',ref_haplo(d[x])))\n",
    "        log(('yr:',ref_haplo(d[y])))\n",
    "        dd= unir_haplotipos(ref_haplo(d[x]), ref_haplo(d[y]))\n",
    "        log(('z0:', lista_a_seq((dd))))\n",
    "        log(('z1:', lista_a_seq(vacio_a_guion(dd))))\n",
    "        log(('z2:', lista_a_seq(dd)))\n",
    "        log(('z3:', dd))\n",
    "        haplos.append([[x,y],dd])\n",
    "\n",
    "f.close()"
   ]
  },
  {
   "cell_type": "markdown",
   "metadata": {},
   "source": [
    "- Leer archivo(s) de lecturas\n",
    "- Leer archivo(s) de haplotipos\n",
    "- Generar archivo de ranking\n",
    "    En el original:\n",
    "        * lectura, par de haplos, ranking, diferencias\n"
   ]
  },
  {
   "cell_type": "code",
   "execution_count": 16,
   "metadata": {
    "collapsed": false
   },
   "outputs": [
    {
     "name": "stdout",
     "output_type": "stream",
     "text": [
      "1296 36 1296\n",
      "DLA-DQB1*02101 [['DLA-DQB1*01701', 'DLA-DQB1*02101'], ['G', 'A', 'T', 'T', 'T', 'C', 'G', 'T', 'G', 'T', 'AT', 'C', 'C', 'A', 'G', 'T', 'TG', 'T', 'A', 'A', 'G', 'G', 'C', 'C', 'G', 'A', 'G', 'T', 'G', 'C', 'T', 'A', 'T', 'T', 'T', 'C', 'A', 'C', 'C', 'A', 'A', 'C', 'G', 'G', 'G', 'A', 'C', 'G', 'G', 'A', 'G', 'C', 'G', 'G', 'G', 'T', 'G', 'C', 'G', 'G', 'CT', 'T', 'T', 'C', 'T', 'G', 'AG', 'C', 'TG', 'A', 'AG', 'A', 'AT', 'AG', 'C', 'A', 'T', 'C', 'T', 'A', 'T', 'A', 'A', 'C', 'C', 'G', 'G', 'G', 'A', 'G', 'G', 'A', 'G', 'T', 'T', 'C', 'G', 'T', 'G', 'C', 'G', 'C', 'T', 'T', 'C', 'G', 'A', 'C', 'A', 'G', 'C', 'G', 'A', 'C', 'G', 'T', 'G', 'G', 'G', 'G', 'G', 'A', 'G', 'T', 'AT', 'C', 'C', 'G', 'G', 'G', 'C', 'G', 'G', 'T', 'C', 'A', 'C', 'G', 'G', 'A', 'G', 'C', 'T', 'C', 'G', 'G', 'G', 'C', 'G', 'G', 'C', 'C', 'C', 'G', 'AT', 'C', 'G', 'C', 'T', 'G', 'A', 'G', 'T', 'AC', 'C', 'T', 'G', 'G', 'A', 'A', 'C', 'G', 'G', 'G', 'C', 'A', 'G', 'A', 'A', 'G', 'G', 'A', 'G', 'AT', 'T', 'C', 'T', 'T', 'G', 'G', 'A', 'G', 'C', 'AG', 'G', 'AG', 'A', 'G', 'C', 'G', 'G', 'G', 'C', 'AC', 'AG', 'AC', 'G', 'G', 'T', 'G', 'G', 'A', 'C', 'A', 'C', 'G', 'G', 'T', 'G', 'T', 'G', 'C', 'A', 'G', 'A', 'C', 'A', 'C', 'A', 'A', 'C', 'T', 'A', 'C', 'G', 'G', 'G', 'AG', 'TG', 'G', 'G', 'A', 'A', 'G', 'A', 'G', 'C', 'T', 'C', 'AT', 'AC', 'C', 'A', 'C', 'G', 'T', 'T', 'G', 'C', 'A', 'G', 'C', 'G', 'G', 'C', 'G', 'A']]\n"
     ]
    }
   ],
   "source": [
    "print len(haplos), len(hh), len(hh)*len(hh)\n",
    "print hh[11], haplos[11]"
   ]
  },
  {
   "cell_type": "code",
   "execution_count": 17,
   "metadata": {
    "collapsed": false
   },
   "outputs": [
    {
     "name": "stdout",
     "output_type": "stream",
     "text": [
      "1\n"
     ]
    }
   ],
   "source": [
    "print len(seqs)"
   ]
  },
  {
   "cell_type": "code",
   "execution_count": 18,
   "metadata": {
    "collapsed": false
   },
   "outputs": [
    {
     "name": "stdout",
     "output_type": "stream",
     "text": [
      "GATTTCGTGTACCAGTTTAAGTTCGAGTGCTATTTCACCAACGGGACGGGAGCGGGTGCGGCTTCTGACTAAATACATCTATAACCGGGAGGAGTTCGTGCGCTTCGACAGCGACGTGGGGGAGTACCGGGCGGTCACGGAGCTCGGGCGGCCCGACGCTGAGTACTGGAACCCGCAGAAGGACGAGATGGACCGGGTACGGGCCGAGCTGGACACGGTGTGCAGACACAACTACGGGGTGGAAGAGCTCACCACGTTGCAGCGGCGAGGT\n"
     ]
    }
   ],
   "source": [
    "for ss in seqs:\n",
    "    print lista_a_seq(ss)"
   ]
  },
  {
   "cell_type": "code",
   "execution_count": 19,
   "metadata": {
    "collapsed": false
   },
   "outputs": [
    {
     "name": "stdout",
     "output_type": "stream",
     "text": [
      "['G', 'A', 'T', 'T', 'T', 'C', 'G', 'T', 'G', 'T', 'A', 'C', 'C', 'A', 'G', 'T', 'T', 'T', 'A', 'A', 'G', 'T', 'T', 'C', 'G', 'A', 'G', 'T', 'G', 'C', 'T', 'A', 'T', 'T', 'T', 'C', 'A', 'C', 'C', 'A', 'A', 'C', 'G', 'G', 'G', 'A', 'C', 'G', 'G', 'G', 'A', 'G', 'C', 'G', 'G', 'G', 'T', 'G', 'C', 'G', 'G', 'C', 'T', 'T', 'C', 'T', 'G', 'A', 'C', 'T', 'A', 'A', 'A', 'T', 'A', 'C', 'A', 'T', 'C', 'T', 'A', 'T', 'A', 'A', 'C', 'C', 'G', 'G', 'G', 'A', 'G', 'G', 'A', 'G', 'T', 'T', 'C', 'G', 'T', 'G', 'C', 'G', 'C', 'T', 'T', 'C', 'G', 'A', 'C', 'A', 'G', 'C', 'G', 'A', 'C', 'G', 'T', 'G', 'G', 'G', 'G', 'G', 'A', 'G', 'T', 'A', 'C', 'C', 'G', 'G', 'G', 'C', 'G', 'G', 'T', 'C', 'A', 'C', 'G', 'G', 'A', 'G', 'C', 'T', 'C', 'G', 'G', 'G', 'C', 'G', 'G', 'C', 'C', 'C', 'G', 'A', 'C', 'G', 'C', 'T', 'G', 'A', 'G', 'T', 'A', 'C', 'T', 'G', 'G', 'A', 'A', 'C', 'C', 'C', 'G', 'C', 'A', 'G', 'A', 'A', 'G', 'G', 'A', 'C', 'G', 'A', 'G', 'A', 'T', 'G', 'G', 'A', 'C', 'C', 'G', 'G', 'G', 'T', 'A', 'C', 'G', 'G', 'G', 'C', 'C', 'G', 'A', 'G', 'C', 'T', 'G', 'G', 'A', 'C', 'A', 'C', 'G', 'G', 'T', 'G', 'T', 'G', 'C', 'A', 'G', 'A', 'C', 'A', 'C', 'A', 'A', 'C', 'T', 'A', 'C', 'G', 'G', 'G', 'G', 'T', 'G', 'G', 'A', 'A', 'G', 'A', 'G', 'C', 'T', 'C', 'A', 'C', 'C', 'A', 'C', 'G', 'T', 'T', 'G', 'C', 'A', 'G', 'C', 'G', 'G', 'C', 'G', 'A', 'G', 'G', 'T']\n",
      ": GATTTCGTGTACCAGTTTAAGTTCGAGTGCTATTTCACCAACGGGACGGGAGCGGGTGCGGCTTCTGACTAAATACATCTATAACCGGGAGGAGTTCGTGCGCTTCGACAGCGACGTGGGGGAGTACCGGGCGGTCACGGAGCTCGGGCGGCCCGACGCTGAGTACTGGAACCCGCAGAAGGACGAGATGGACCGGGTACGGGCCGAGCTGGACACGGTGTGCAGACACAACTACGGGGTGGAAGAGCTCACCACGTTGCAGCGGCGAGGT\n",
      "haplos: [['DLA-DQB1*01701', 'DLA-DQB1*01501'], ['G', 'A', 'T', 'T', 'T', 'C', 'G', 'T', 'G', 'T', 'AT', 'C', 'C', 'A', 'G', 'T', 'G', 'T', 'A', 'A', 'G', 'G', 'C', 'C', 'G', 'A', 'G', 'T', 'G', 'C', 'T', 'A', 'T', 'T', 'T', 'C', 'A', 'C', 'C', 'A', 'A', 'C', 'G', 'G', 'G', 'A', 'C', 'G', 'G', 'A', 'G', 'C', 'G', 'G', 'G', 'T', 'G', 'C', 'G', 'G', 'T', 'T', 'T', 'C', 'T', 'G', 'G', 'C', 'T', 'A', 'A', 'A', 'T', 'A', 'C', 'A', 'T', 'C', 'T', 'A', 'T', 'A', 'A', 'C', 'C', 'G', 'G', 'G', 'A', 'G', 'G', 'A', 'G', 'T', 'T', 'C', 'G', 'T', 'G', 'C', 'G', 'C', 'T', 'T', 'C', 'G', 'A', 'C', 'A', 'G', 'C', 'G', 'A', 'C', 'G', 'T', 'G', 'G', 'G', 'G', 'G', 'A', 'G', 'T', 'AT', 'C', 'C', 'G', 'G', 'G', 'C', 'G', 'G', 'T', 'C', 'A', 'C', 'G', 'G', 'A', 'G', 'C', 'T', 'C', 'G', 'G', 'G', 'C', 'G', 'G', 'C', 'C', 'C', 'TG', 'AC', 'CG', 'G', 'C', 'T', 'G', 'A', 'G', 'T', 'AC', 'C', 'T', 'G', 'G', 'A', 'A', 'C', 'G', 'G', 'G', 'C', 'A', 'G', 'A', 'A', 'G', 'G', 'A', 'G', 'AT', 'T', 'C', 'T', 'T', 'G', 'G', 'A', 'G', 'C', 'A', 'G', 'G', 'A', 'G', 'C', 'G', 'G', 'G', 'C', 'A', 'A', 'C', 'G', 'G', 'T', 'G', 'G', 'A', 'C', 'A', 'C', 'G', 'G', 'T', 'G', 'T', 'G', 'C', 'A', 'G', 'A', 'C', 'A', 'C', 'A', 'A', 'C', 'T', 'A', 'C', 'G', 'G', 'G', 'G', 'T', 'G', 'G', 'A', 'A', 'G', 'A', 'G', 'C', 'T', 'C', 'T', 'A', 'C', 'A', 'C', 'G', 'T', 'T', 'G', 'C', 'A', 'G', 'C', 'G', 'G', 'C', 'G', 'A']]\n",
      "h: GATTTCGTGT[A/T]CCAGTGTAAGGCCGAGTGCTATTTCACCAACGGGACGGAGCGGGTGCGGTTTCTGGCTAAATACATCTATAACCGGGAGGAGTTCGTGCGCTTCGACAGCGACGTGGGGGAGT[A/T]CCGGGCGGTCACGGAGCTCGGGCGGCCC[T/G][A/C][C/G]GCTGAGT[A/C]CTGGAACGGGCAGAAGGAG[A/T]TCTTGGAGCAGGAGCGGGCAACGGTGGACACGGTGTGCAGACACAACTACGGGGTGGAAGAGCTCTACACGTTGCAGCGGCGA\n"
     ]
    }
   ],
   "source": [
    "s=seqs[0]\n",
    "print s\n",
    "print ':', lista_a_seq(s)\n",
    "#print s, len(s)\n",
    "print 'haplos:', haplos[4]\n",
    "h=ref_haplo(haplos[4][1])\n",
    "print 'h:',lista_a_seq(h)\n",
    "#print h, len(h)"
   ]
  },
  {
   "cell_type": "code",
   "execution_count": 20,
   "metadata": {
    "collapsed": false
   },
   "outputs": [
    {
     "name": "stdout",
     "output_type": "stream",
     "text": [
      "GATTTCGTGTACCAGTTTAAGGGCGAGTGCTATTTCACCAACGGGACGGAGCGGGTGCGGCTTCTGACGAGAGACATCTATAACCGGGAGGAGCACGTGCGCTTCGACAGCGACGTGGGGGAGTACCGGGCGGTCACGGAGCTCGGGCGGCCGGACGCTGAGTACTGGAACGGGCAGAAGGAGCTCTTGGAGCGGAGGCGGGCCGAGGTGGACACGGTGTGCAGACACAACTACGGGAGGGAAGAGCTCACCACGTTGCAGCGGCGA\n",
      "['G', 'A', 'T', 'T', 'T', 'C', 'G', 'T', 'G', 'T', 'AT', 'C', 'C', 'A', 'G', 'T', 'G', 'T', 'A', 'A', 'G', 'G', 'C', 'C', 'G', 'A', 'G', 'T', 'G', 'C', 'T', 'A', 'T', 'T', 'T', 'C', 'A', 'C', 'C', 'A', 'A', 'C', 'G', 'G', 'G', 'A', 'C', 'G', 'G', 'A', 'G', 'C', 'G', 'G', 'G', 'T', 'G', 'C', 'G', 'G', 'T', 'T', 'T', 'C', 'T', 'G', 'G', 'C', 'T', 'A', 'A', 'A', 'T', 'A', 'C', 'A', 'T', 'C', 'T', 'A', 'T', 'A', 'A', 'C', 'C', 'G', 'G', 'G', 'A', 'G', 'G', 'A', 'G', 'T', 'T', 'C', 'G', 'T', 'G', 'C', 'G', 'C', 'T', 'T', 'C', 'G', 'A', 'C', 'A', 'G', 'C', 'G', 'A', 'C', 'G', 'T', 'G', 'G', 'G', 'G', 'G', 'A', 'G', 'T', 'AT', 'C', 'C', 'G', 'G', 'G', 'C', 'G', 'G', 'T', 'C', 'A', 'C', 'G', 'G', 'A', 'G', 'C', 'T', 'C', 'G', 'G', 'G', 'C', 'G', 'G', 'C', 'C', 'C', 'TG', 'AC', 'CG', 'G', 'C', 'T', 'G', 'A', 'G', 'T', 'AC', 'C', 'T', 'G', 'G', 'A', 'A', 'C', 'G', 'G', 'G', 'C', 'A', 'G', 'A', 'A', 'G', 'G', 'A', 'G', 'AT', 'T', 'C', 'T', 'T', 'G', 'G', 'A', 'G', 'C', 'A', 'G', 'G', 'A', 'G', 'C', 'G', 'G', 'G', 'C', 'A', 'A', 'C', 'G', 'G', 'T', 'G', 'G', 'A', 'C', 'A', 'C', 'G', 'G', 'T', 'G', 'T', 'G', 'C', 'A', 'G', 'A', 'C', 'A', 'C', 'A', 'A', 'C', 'T', 'A', 'C', 'G', 'G', 'G', 'G', 'T', 'G', 'G', 'A', 'A', 'G', 'A', 'G', 'C', 'T', 'C', 'T', 'A', 'C', 'A', 'C', 'G', 'T', 'T', 'G', 'C', 'A', 'G', 'C', 'G', 'G', 'C', 'G', 'A']\n"
     ]
    }
   ],
   "source": [
    "print refseq\n",
    "print h\n"
   ]
  },
  {
   "cell_type": "code",
   "execution_count": 21,
   "metadata": {
    "collapsed": false
   },
   "outputs": [],
   "source": [
    "IUPAC={\n",
    "'A':'A',\n",
    "'C':'C',\n",
    "'G':'G',\n",
    "'T':'T',\n",
    "'U':'U',\n",
    "'AG':'R',\n",
    "'CT':'Y',\n",
    "'CG':'S',\n",
    "'AT':'W',\n",
    "'GT':'K',\n",
    "'AC':'M',\n",
    "'CGT':'B',\n",
    "'AGT':'D',\n",
    "'ACT':'H',\n",
    "'ACG':'V',\n",
    "'ACGT':'N',\n",
    "'.':'.',\n",
    "'-':'-'\n",
    "}"
   ]
  },
  {
   "cell_type": "code",
   "execution_count": 22,
   "metadata": {
    "collapsed": false
   },
   "outputs": [
    {
     "data": {
      "text/plain": [
       "'R'"
      ]
     },
     "execution_count": 22,
     "metadata": {},
     "output_type": "execute_result"
    }
   ],
   "source": [
    "IUPAC['AG']"
   ]
  },
  {
   "cell_type": "code",
   "execution_count": 23,
   "metadata": {
    "collapsed": false
   },
   "outputs": [],
   "source": [
    "IUPAC_1=dict([ [x[1],x[0]] for x in list(IUPAC.items())])"
   ]
  },
  {
   "cell_type": "code",
   "execution_count": 24,
   "metadata": {
    "collapsed": false
   },
   "outputs": [
    {
     "data": {
      "text/plain": [
       "'ACT'"
      ]
     },
     "execution_count": 24,
     "metadata": {},
     "output_type": "execute_result"
    }
   ],
   "source": [
    "IUPAC_1['H']"
   ]
  },
  {
   "cell_type": "code",
   "execution_count": 25,
   "metadata": {
    "collapsed": false
   },
   "outputs": [
    {
     "data": {
      "text/plain": [
       "['A', 'ACT', 'AG', 'ACG']"
      ]
     },
     "execution_count": 25,
     "metadata": {},
     "output_type": "execute_result"
    }
   ],
   "source": [
    "s='ACGTRYSWMBHVN'\n",
    "s='AHRV'\n",
    "def iupac_a_seq(s):\n",
    "    t=[]\n",
    "    for x in s:\n",
    "        t.append(IUPAC_1[x])\n",
    "    return t\n",
    "iupac_a_seq(s)"
   ]
  },
  {
   "cell_type": "code",
   "execution_count": 26,
   "metadata": {
    "collapsed": false
   },
   "outputs": [
    {
     "data": {
      "text/plain": [
       "'ACGTRYSWMBHVN'"
      ]
     },
     "execution_count": 26,
     "metadata": {},
     "output_type": "execute_result"
    }
   ],
   "source": [
    "s=['A', 'C', 'G', 'T', 'GA', 'CT', 'CG', 'AT', 'AC', 'CGT', 'ACT', 'ACG', 'ACGT']\n",
    "\n",
    "def lista_a_iupac(s):\n",
    "    ''' Recibe una lista del tipo del ejemplo, la pasa a iupac, devuelve string\n",
    "    '''\n",
    "    t=[]\n",
    "    for x in s:\n",
    "        t.append(IUPAC[''.join(sorted(list(x)))])\n",
    "    return ''.join(t)\n",
    "lista_a_iupac(s)"
   ]
  },
  {
   "cell_type": "code",
   "execution_count": 27,
   "metadata": {
    "collapsed": false
   },
   "outputs": [
    {
     "data": {
      "text/plain": [
       "(4, 1, 5, 1, 6)"
      ]
     },
     "execution_count": 27,
     "metadata": {},
     "output_type": "execute_result"
    }
   ],
   "source": [
    "def seq_compare(s,t): #se supone que estan alineados y tienen la misma longitud\n",
    "    match=0 \n",
    "    nomatch=0 \n",
    "    compared=0\n",
    "    nocompared=0\n",
    "    total=len(s)\n",
    "    #print 'S T i M N C'\n",
    "    for i, x in enumerate(s):\n",
    "        y=t[i]\n",
    "        if x=='-' or y=='-':\n",
    "            nocompared+=1\n",
    "        elif x==y: \n",
    "            match +=1\n",
    "            compared +=1\n",
    "        else:\n",
    "            nomatch +=1\n",
    "            compared +=1\n",
    "        #print x, t[i], i, match, nomatch, compared\n",
    "        \n",
    "    return (match, nomatch, compared, nocompared, total)\n",
    "\n",
    "def haplo_compare(s,t): #se supone que estan alineados y tienen la misma longitud\n",
    "    comp=[]\n",
    "    match=0 \n",
    "    nomatch=0 \n",
    "    compared=0\n",
    "    nocompared=0\n",
    "    total=len(s)\n",
    "    #print 'S T i M N C'\n",
    "    for i, x in enumerate(s):\n",
    "        yi=set(t[i])\n",
    "        xi=set(x)\n",
    "        if xi==set('-') or yi==set('-'):\n",
    "            nocompared+=1\n",
    "            comp +='-'\n",
    "        elif xi.issubset(yi): \n",
    "            match +=1\n",
    "            compared +=1\n",
    "            comp +='|'\n",
    "        else:\n",
    "            nomatch +=1\n",
    "            compared +=1\n",
    "            comp +='X'\n",
    "        #print x, t[i], i, match, nomatch, compared\n",
    "        \n",
    "    return [match, nomatch, compared, nocompared, total, ''.join(comp)]\n",
    "seq_compare('ASDFGH','ASEF-H')"
   ]
  },
  {
   "cell_type": "code",
   "execution_count": 28,
   "metadata": {
    "collapsed": false
   },
   "outputs": [
    {
     "data": {
      "text/plain": [
       "(267, 0, 267, 0, 267)"
      ]
     },
     "execution_count": 28,
     "metadata": {},
     "output_type": "execute_result"
    }
   ],
   "source": [
    "seq_compare(refseq, refseq)"
   ]
  },
  {
   "cell_type": "code",
   "execution_count": 30,
   "metadata": {
    "collapsed": false
   },
   "outputs": [],
   "source": [
    "# prueba del algoritmo de alineamiento\n",
    "# para adaptarse a las diferencias sin introducir gap\n",
    "# -> local y no global, penalizando altamente el gap (habria que buscar un mínimo)\n",
    "f=open('alineamiento.txt','w')\n",
    "from Bio import pairwise2\n",
    "from Bio.pairwise2 import format_alignment\n",
    "s=lista_a_seq(s)\n",
    "h1=lista_a_seq(h[1])\n",
    "alignments = pairwise2.align.localms(refseq,h1[:200],2,-1,-5,-5)\n",
    "log(('#alignements=',len(alignments)))\n",
    "for a in alignments:\n",
    "    log(('--------------'))\n",
    "    log((format_alignment(*a)))\n",
    "    log(('a=',a))\n",
    "    log(('seq_compare',seq_compare(a[0], a[1])))\n",
    "#    print '--------------'\n",
    "#    print format_alignment(*a)\n",
    "#    print a\n",
    "#    print seq_compare(a[0], a[1])\n",
    "\n",
    "def alinear(s,t):\n",
    "#    print 'align:'\n",
    "#    print 's:', s\n",
    "#    print 't:', t\n",
    "    #log(('align:'))\n",
    "    #log(('s:', s))\n",
    "    #log(('t:', t))\n",
    "    al = pairwise2.align.localms(s,t,2,-1,-5,-5)\n",
    "#    for a in al:\n",
    " #       log(('--------------'))\n",
    "  #      log((format_alignment(*a)))\n",
    "   #     log(('a=',a))\n",
    "    #    log(('seq_compare',seq_compare(a[0], a[1])))\n",
    "    \n",
    "    #log((a[0][0], a[0][1]))\n",
    "    #log(('pairwise'))\n",
    "    #log((a))\n",
    "\n",
    "    return al[0][0], al[0][1]\n",
    "f.close()"
   ]
  },
  {
   "cell_type": "code",
   "execution_count": 31,
   "metadata": {
    "collapsed": false
   },
   "outputs": [
    {
     "data": {
      "text/plain": [
       "'ACGT[G/A][C/T][C/G][A/T][A/C][C/G][A/C][A/C][A/C]'"
      ]
     },
     "execution_count": 31,
     "metadata": {},
     "output_type": "execute_result"
    }
   ],
   "source": [
    "s"
   ]
  },
  {
   "cell_type": "code",
   "execution_count": 32,
   "metadata": {
    "collapsed": false
   },
   "outputs": [
    {
     "name": "stdout",
     "output_type": "stream",
     "text": [
      "A\n"
     ]
    }
   ],
   "source": [
    "print h[1]"
   ]
  },
  {
   "cell_type": "code",
   "execution_count": 33,
   "metadata": {
    "collapsed": false
   },
   "outputs": [
    {
     "name": "stdout",
     "output_type": "stream",
     "text": [
      "['G', 'C', 'T', 'CT', 'T', 'AGT', 'C', 'C', 'GT', 'G', 'G', 'CT', 'A', 'T', 'G', 'A', 'A', 'CT', 'G', 'T', 'CT', 'C', 'G']\n"
     ]
    }
   ],
   "source": [
    "q='GTCATYTGDGTDGCDGGYTCDCC'\n",
    "q='TTGAGBARRCCRTACATRAGC'\n",
    "q='GGGCTRACRAARGCYCKRTCCC'\n",
    "q='CCHTACAAYGCYGATTTYGACG'\n",
    "q='GCTYATGTAYGGYYTVCTCAA'\n",
    "q='GCTYTDCCKGGYATGAAYGTYCG'\n",
    "r=iupac_a_seq(q)\n",
    "print r"
   ]
  },
  {
   "cell_type": "code",
   "execution_count": 34,
   "metadata": {
    "collapsed": false
   },
   "outputs": [
    {
     "name": "stdout",
     "output_type": "stream",
     "text": [
      "GCTCTACCGGGCATGAACGTCCG\n",
      "GCTCTACCGGGCATGAACGTTCG\n",
      "GCTCTACCGGGCATGAATGTCCG\n",
      "GCTCTACCGGGCATGAATGTTCG\n",
      "GCTCTACCGGGTATGAACGTCCG\n",
      "GCTCTACCGGGTATGAACGTTCG\n",
      "GCTCTACCGGGTATGAATGTCCG\n",
      "GCTCTACCGGGTATGAATGTTCG\n",
      "GCTCTACCTGGCATGAACGTCCG\n",
      "GCTCTACCTGGCATGAACGTTCG\n",
      "GCTCTACCTGGCATGAATGTCCG\n",
      "GCTCTACCTGGCATGAATGTTCG\n",
      "GCTCTACCTGGTATGAACGTCCG\n",
      "GCTCTACCTGGTATGAACGTTCG\n",
      "GCTCTACCTGGTATGAATGTCCG\n",
      "GCTCTACCTGGTATGAATGTTCG\n",
      "GCTCTGCCGGGCATGAACGTCCG\n",
      "GCTCTGCCGGGCATGAACGTTCG\n",
      "GCTCTGCCGGGCATGAATGTCCG\n",
      "GCTCTGCCGGGCATGAATGTTCG\n",
      "GCTCTGCCGGGTATGAACGTCCG\n",
      "GCTCTGCCGGGTATGAACGTTCG\n",
      "GCTCTGCCGGGTATGAATGTCCG\n",
      "GCTCTGCCGGGTATGAATGTTCG\n",
      "GCTCTGCCTGGCATGAACGTCCG\n",
      "GCTCTGCCTGGCATGAACGTTCG\n",
      "GCTCTGCCTGGCATGAATGTCCG\n",
      "GCTCTGCCTGGCATGAATGTTCG\n",
      "GCTCTGCCTGGTATGAACGTCCG\n",
      "GCTCTGCCTGGTATGAACGTTCG\n",
      "GCTCTGCCTGGTATGAATGTCCG\n",
      "GCTCTGCCTGGTATGAATGTTCG\n",
      "GCTCTTCCGGGCATGAACGTCCG\n",
      "GCTCTTCCGGGCATGAACGTTCG\n",
      "GCTCTTCCGGGCATGAATGTCCG\n",
      "GCTCTTCCGGGCATGAATGTTCG\n",
      "GCTCTTCCGGGTATGAACGTCCG\n",
      "GCTCTTCCGGGTATGAACGTTCG\n",
      "GCTCTTCCGGGTATGAATGTCCG\n",
      "GCTCTTCCGGGTATGAATGTTCG\n",
      "GCTCTTCCTGGCATGAACGTCCG\n",
      "GCTCTTCCTGGCATGAACGTTCG\n",
      "GCTCTTCCTGGCATGAATGTCCG\n",
      "GCTCTTCCTGGCATGAATGTTCG\n",
      "GCTCTTCCTGGTATGAACGTCCG\n",
      "GCTCTTCCTGGTATGAACGTTCG\n",
      "GCTCTTCCTGGTATGAATGTCCG\n",
      "GCTCTTCCTGGTATGAATGTTCG\n",
      "GCTTTACCGGGCATGAACGTCCG\n",
      "GCTTTACCGGGCATGAACGTTCG\n",
      "GCTTTACCGGGCATGAATGTCCG\n",
      "GCTTTACCGGGCATGAATGTTCG\n",
      "GCTTTACCGGGTATGAACGTCCG\n",
      "GCTTTACCGGGTATGAACGTTCG\n",
      "GCTTTACCGGGTATGAATGTCCG\n",
      "GCTTTACCGGGTATGAATGTTCG\n",
      "GCTTTACCTGGCATGAACGTCCG\n",
      "GCTTTACCTGGCATGAACGTTCG\n",
      "GCTTTACCTGGCATGAATGTCCG\n",
      "GCTTTACCTGGCATGAATGTTCG\n",
      "GCTTTACCTGGTATGAACGTCCG\n",
      "GCTTTACCTGGTATGAACGTTCG\n",
      "GCTTTACCTGGTATGAATGTCCG\n",
      "GCTTTACCTGGTATGAATGTTCG\n",
      "GCTTTGCCGGGCATGAACGTCCG\n",
      "GCTTTGCCGGGCATGAACGTTCG\n",
      "GCTTTGCCGGGCATGAATGTCCG\n",
      "GCTTTGCCGGGCATGAATGTTCG\n",
      "GCTTTGCCGGGTATGAACGTCCG\n",
      "GCTTTGCCGGGTATGAACGTTCG\n",
      "GCTTTGCCGGGTATGAATGTCCG\n",
      "GCTTTGCCGGGTATGAATGTTCG\n",
      "GCTTTGCCTGGCATGAACGTCCG\n",
      "GCTTTGCCTGGCATGAACGTTCG\n",
      "GCTTTGCCTGGCATGAATGTCCG\n",
      "GCTTTGCCTGGCATGAATGTTCG\n",
      "GCTTTGCCTGGTATGAACGTCCG\n",
      "GCTTTGCCTGGTATGAACGTTCG\n",
      "GCTTTGCCTGGTATGAATGTCCG\n",
      "GCTTTGCCTGGTATGAATGTTCG\n",
      "GCTTTTCCGGGCATGAACGTCCG\n",
      "GCTTTTCCGGGCATGAACGTTCG\n",
      "GCTTTTCCGGGCATGAATGTCCG\n",
      "GCTTTTCCGGGCATGAATGTTCG\n",
      "GCTTTTCCGGGTATGAACGTCCG\n",
      "GCTTTTCCGGGTATGAACGTTCG\n",
      "GCTTTTCCGGGTATGAATGTCCG\n",
      "GCTTTTCCGGGTATGAATGTTCG\n",
      "GCTTTTCCTGGCATGAACGTCCG\n",
      "GCTTTTCCTGGCATGAACGTTCG\n",
      "GCTTTTCCTGGCATGAATGTCCG\n",
      "GCTTTTCCTGGCATGAATGTTCG\n",
      "GCTTTTCCTGGTATGAACGTCCG\n",
      "GCTTTTCCTGGTATGAACGTTCG\n",
      "GCTTTTCCTGGTATGAATGTCCG\n",
      "GCTTTTCCTGGTATGAATGTTCG\n"
     ]
    }
   ],
   "source": [
    "#esto es lo que hice para Suani!!!\n",
    "\n",
    "def gen(s,a=''):\n",
    "    if len(s)>1:        #print len(s)\n",
    "        for x in s[0]:\n",
    "            gen(s[1:],a+x)\n",
    "    else:               #es el ultimo, cerrar\n",
    "        for x in s[0]:\n",
    "            print a + x\n",
    "s=r  \n",
    "gen(s) "
   ]
  },
  {
   "cell_type": "code",
   "execution_count": 35,
   "metadata": {
    "collapsed": false
   },
   "outputs": [],
   "source": [
    "hap=open('haplos.txt','w')\n",
    "for h in haplos:\n",
    "    hap.write(str(h[0]) + ' ' + lista_a_seq(h[1]) + '\\n')\n",
    "hap.close()"
   ]
  },
  {
   "cell_type": "markdown",
   "metadata": {},
   "source": [
    "bak='''\n",
    "for i,s in enumerate(seq):\n",
    "    f=open(desc[i]+'comparacion.txt','w')\n",
    "    print i,':',s\n",
    "    for j,h in enumerate(haplos):\n",
    "        print j,\n",
    "        h1=h[1]\n",
    "        s1=seq_a_lista(s)\n",
    "        h1=h[1]\n",
    "        log(('------------------\\n')) #print '-------------------'\n",
    "        x, y= alinear(lista_a_iupac(s1),lista_a_iupac(h1)) #\n",
    "        res=haplo_compare(x,y)\n",
    "        log((h[0]))\n",
    "        log((x))\n",
    "        log((str(''.join(res[-1]))))\n",
    "        log((y))\n",
    "        log(('match, nomatch, compared, nocompared, total, comp'))\n",
    "        log((str(res[:-1])+'\\n'))\n",
    "    f.close()\n",
    "'''"
   ]
  },
  {
   "cell_type": "code",
   "execution_count": 36,
   "metadata": {
    "collapsed": false
   },
   "outputs": [
    {
     "name": "stdout",
     "output_type": "stream",
     "text": [
      "0 : GATTTCGTGTACCAGTTTAAGTTCGAGTGCTATTTCACCAACGGGACGGGAGCGGGTGCGGCTTCTGACTAAATACATCTATAACCGGGAGGAGTTCGTGCGCTTCGACAGCGACGTGGGGGAGTACCGGGCGGTCACGGAGCTCGGGCGGCCCGACGCTGAGTACTGGAACCCGCAGAAGGACGAGATGGACCGGGTACGGGCCGAGCTGGACACGGTGTGCAGACACAACTACGGGGTGGAAGAGCTCACCACGTTGCAGCGGCGAGGT\n",
      "0 1 2 3 4 5 6 7 8 9 10 11 12 13 14 15 16 17 18 19 20 21 22 23 24 25 26 27 28 29 30 31 32 33 34 35 36 37 38 39 40 41 42 43 44 45 46 47 48 49 50 51 52 53 54 55 56 57 58 59 60 61 62 63 64 65 66 67 68 69 70 71 72 73 74 75 76 77 78 79 80 81 82 83 84 85 86 87 88 89 90 91 92 93 94 95 96 97 98 99 100 101 102 103 104 105 106 107 108 109 110 111 112 113 114 115 116 117 118 119 120 121 122 123 124 125 126 127 128 129 130 131 132 133 134 135 136 137 138 139 140 141 142 143 144 145 146 147 148 149 150 151 152 153 154 155 156 157 158 159 160 161 162 163 164 165 166 167 168 169 170 171 172 173 174 175 176 177 178 179 180 181 182 183 184 185 186 187 188 189 190 191 192 193 194 195 196 197 198 199 200 201 202 203 204 205 206 207 208 209 210 211 212 213 214 215 216 217 218 219 220 221 222 223 224 225 226 227 228 229 230 231 232 233 234 235 236 237 238 239 240 241 242 243 244 245 246 247 248 249 250 251 252 253 254 255 256 257 258 259 260 261 262 263 264 265 266 267 268 269 270 271 272 273 274 275 276 277 278 279 280 281 282 283 284 285 286 287 288 289 290 291 292 293 294 295 296 297 298 299 300 301 302 303 304 305 306 307 308 309 310 311 312 313 314 315 316 317 318 319 320 321 322 323 324 325 326 327 328 329 330 331 332 333 334 335 336 337 338 339 340 341 342 343 344 345 346 347 348 349 350 351 352 353 354 355 356 357 358 359 360 361 362 363 364 365 366 367 368 369 370 371 372 373 374 375 376 377 378 379 380 381 382 383 384 385 386 387 388 389 390 391 392 393 394 395 396 397 398 399 400 401 402 403 404 405 406 407 408 409 410 411 412 413 414 415 416 417 418 419 420 421 422 423 424 425 426 427 428 429 430 431 432 433 434 435 436 437 438 439 440 441 442 443 444 445 446 447 448 449 450 451 452 453 454 455 456 457 458 459 460 461 462 463 464 465 466 467 468 469 470 471 472 473 474 475 476 477 478 479 480 481 482 483 484 485 486 487 488 489 490 491 492 493 494 495 496 497 498 499 500 501 502 503 504 505 506 507 508 509 510 511 512 513 514 515 516 517 518 519 520 521 522 523 524 525 526 527 528 529 530 531 532 533 534 535 536 537 538 539 540 541 542 543 544 545 546 547 548 549 550 551 552 553 554 555 556 557 558 559 560 561 562 563 564 565 566 567 568 569 570 571 572 573 574 575 576 577 578 579 580 581 582 583 584 585 586 587 588 589 590 591 592 593 594 595 596 597 598 599 600 601 602 603 604 605 606 607 608 609 610 611 612 613 614 615 616 617 618 619 620 621 622 623 624 625 626 627 628 629 630 631 632 633 634 635 636 637 638 639 640 641 642 643 644 645 646 647 648 649 650 651 652 653 654 655 656 657 658 659 660 661 662 663 664 665 666 667 668 669 670 671 672 673 674 675 676 677 678 679 680 681 682 683 684 685 686 687 688 689 690 691 692 693 694 695 696 697 698 699 700 701 702 703 704 705 706 707 708 709 710 711 712 713 714 715 716 717 718 719 720 721 722 723 724 725 726 727 728 729 730 731 732 733 734 735 736 737 738 739 740 741 742 743 744 745 746 747 748 749 750 751 752 753 754 755 756 757 758 759 760 761 762 763 764 765 766 767 768 769 770 771 772 773 774 775 776 777 778 779 780 781 782 783 784 785 786 787 788 789 790 791 792 793 794 795 796 797 798 799 800 801 802 803 804 805 806 807 808 809 810 811 812 813 814 815 816 817 818 819 820 821 822 823 824 825 826 827 828 829 830 831 832 833 834 835 836 837 838 839 840 841 842 843 844 845 846 847 848 849 850 851 852 853 854 855 856 857 858 859 860 861 862 863 864 865 866 867 868 869 870 871 872 873 874 875 876 877 878 879 880 881 882 883 884 885 886 887 888 889 890 891 892 893 894 895 896 897 898 899 900 901 902 903 904 905 906 907 908 909 910 911 912 913 914 915 916 917 918 919 920 921 922 923 924 925 926 927 928 929 930 931 932 933 934 935 936 937 938 939 940 941 942 943 944 945 946 947 948 949 950 951 952 953 954 955 956 957 958 959 960 961 962 963 964 965 966 967 968 969 970 971 972 973 974 975 976 977 978 979 980 981 982 983 984 985 986 987 988 989 990 991 992 993 994 995 996 997 998 999 1000 1001 1002 1003 1004 1005 1006 1007 1008 1009 1010 1011 1012 1013 1014 1015 1016 1017 1018 1019 1020 1021 1022 1023 1024 1025 1026 1027 1028 1029 1030 1031 1032 1033 1034 1035 1036 1037 1038 1039 1040 1041 1042 1043 1044 1045 1046 1047 1048 1049 1050 1051 1052 1053 1054 1055 1056 1057 1058 1059 1060 1061 1062 1063 1064 1065 1066 1067 1068 1069 1070 1071 1072 1073 1074 1075 1076 1077 1078 1079 1080 1081 1082 1083 1084 1085 1086 1087 1088 1089 1090 1091 1092 1093 1094 1095 1096 1097 1098 1099 1100 1101 1102 1103 1104 1105 1106 1107 1108 1109 1110 1111 1112 1113 1114 1115 1116 1117 1118 1119 1120 1121 1122 1123 1124 1125 1126 1127 1128 1129 1130 1131 1132 1133 1134 1135 1136 1137 1138 1139 1140 1141 1142 1143 1144 1145 1146 1147 1148 1149 1150 1151 1152 1153 1154 1155 1156 1157 1158 1159 1160 1161 1162 1163 1164 1165 1166 1167 1168 1169 1170 1171 1172 1173 1174 1175 1176 1177 1178 1179 1180 1181 1182 1183 1184 1185 1186 1187 1188 1189 1190 1191 1192 1193 1194 1195 1196 1197 1198 1199 1200 1201 1202 1203 1204 1205 1206 1207 1208 1209 1210 1211 1212 1213 1214 1215 1216 1217 1218 1219 1220 1221 1222 1223 1224 1225 1226 1227 1228 1229 1230 1231 1232 1233 1234 1235 1236 1237 1238 1239 1240 1241 1242 1243 1244 1245 1246 1247 1248 1249 1250 1251 1252 1253 1254 1255 1256 1257 1258 1259 1260 1261 1262 1263 1264 1265 1266 1267 1268 1269 1270 1271 1272 1273 1274 1275 1276 1277 1278 1279 1280 1281 1282 1283 1284 1285 1286 1287 1288 1289 1290 1291 1292 1293 1294 1295\n"
     ]
    }
   ],
   "source": [
    "for i,s in enumerate(seq):\n",
    "    r=open(desc[i]+'comparacion.txt','w')\n",
    "    rank=[]\n",
    "    print i,':',s\n",
    "    for j,h in enumerate(haplos):\n",
    "        print j,\n",
    "        h1=h[1]\n",
    "        #print 'h1:',h1\n",
    "        #print lista_a_iupac(h1)\n",
    "        s1=seq_a_lista(s)\n",
    "        #print 's1:',s1\n",
    "        #print lista_a_iupac(s1)\n",
    "        #log(('------------------\\n')) #print '-------------------'\n",
    "        x, y= alinear(lista_a_iupac(s1),lista_a_iupac(h1)) #\n",
    "        res=haplo_compare(x,y)\n",
    "        res.extend([h[0],x,y])\n",
    "        rank.append(res)\n",
    "        debug='''\n",
    "        log((h[0])) # los id\n",
    "        log((x))\n",
    "        log((str(''.join(res[-1]))))\n",
    "        log((y))\n",
    "        log(('match, nomatch, compared, nocompared, total, comp'))\n",
    "        log((str(res[:-1])+'\\n'))\n",
    "        print((h[0])) # los id\n",
    "        print((x))\n",
    "        print((str(''.join(res[-1]))))\n",
    "        print((y))\n",
    "        print(('match, nomatch, compared, nocompared, total, comp'))\n",
    "        print((str(res[:-1])+'\\n'))\n",
    "        '''\n",
    "    #print 'sorting...'\n",
    "    rank.sort(reverse=True)\n",
    "    #r=open('rank.txt','w')\n",
    "    for x in rank:\n",
    "        r.write('Haplotipo: '+ ' '.join(x[6])+'\\n')\n",
    "        r.write(', '.join([str(xx) for xx in x[:5]])+'\\n')\n",
    "        r.write(str(x[7])+'\\n')\n",
    "        r.write(str(x[5])+'\\n')\n",
    "        r.write(str(x[8])+'\\n\\n')\n",
    "    \n",
    "    r.close()"
   ]
  },
  {
   "cell_type": "code",
   "execution_count": 37,
   "metadata": {
    "collapsed": false
   },
   "outputs": [],
   "source": [
    "rank.sort(reverse=True)\n",
    "r=open('rank.txt','w')\n",
    "for x in rank:\n",
    "    r.write('Haplotipo: '+ ' '.join(x[6])+'\\n')\n",
    "    r.write(', '.join([str(xx) for xx in x[:5]])+'\\n')\n",
    "    r.write(str(x[7])+'\\n')\n",
    "    r.write(str(x[5])+'\\n')\n",
    "    r.write(str(x[8])+'\\n\\n')\n",
    "    \n",
    "r.close()"
   ]
  },
  {
   "cell_type": "code",
   "execution_count": 38,
   "metadata": {
    "collapsed": false
   },
   "outputs": [],
   "source": [
    " f.close()"
   ]
  },
  {
   "cell_type": "code",
   "execution_count": 39,
   "metadata": {
    "collapsed": false
   },
   "outputs": [
    {
     "ename": "IndexError",
     "evalue": "list index out of range",
     "output_type": "error",
     "traceback": [
      "\u001b[0;31m---------------------------------------------------------------------------\u001b[0m",
      "\u001b[0;31mIndexError\u001b[0m                                Traceback (most recent call last)",
      "\u001b[0;32m<ipython-input-39-c9f605b9c575>\u001b[0m in \u001b[0;36m<module>\u001b[0;34m()\u001b[0m\n\u001b[0;32m----> 1\u001b[0;31m \u001b[0ms\u001b[0m\u001b[0;34m=\u001b[0m\u001b[0mseq_a_lista\u001b[0m\u001b[0;34m(\u001b[0m\u001b[0mseq\u001b[0m\u001b[0;34m[\u001b[0m\u001b[0;36m2\u001b[0m\u001b[0;34m]\u001b[0m\u001b[0;34m)\u001b[0m\u001b[0;34m\u001b[0m\u001b[0m\n\u001b[0m\u001b[1;32m      2\u001b[0m \u001b[0mh\u001b[0m\u001b[0;34m=\u001b[0m\u001b[0mhaplos\u001b[0m\u001b[0;34m[\u001b[0m\u001b[0;36m22\u001b[0m\u001b[0;34m]\u001b[0m\u001b[0;34m\u001b[0m\u001b[0m\n\u001b[1;32m      3\u001b[0m \u001b[0mt\u001b[0m\u001b[0;34m=\u001b[0m\u001b[0mh\u001b[0m\u001b[0;34m[\u001b[0m\u001b[0;36m1\u001b[0m\u001b[0;34m]\u001b[0m\u001b[0;34m\u001b[0m\u001b[0m\n\u001b[1;32m      4\u001b[0m \u001b[0;32mprint\u001b[0m \u001b[0;34m'S:'\u001b[0m\u001b[0;34m,\u001b[0m \u001b[0ms\u001b[0m\u001b[0;34m\u001b[0m\u001b[0m\n\u001b[1;32m      5\u001b[0m \u001b[0;32mprint\u001b[0m \u001b[0;34m' '\u001b[0m\u001b[0;34m.\u001b[0m\u001b[0mjoin\u001b[0m\u001b[0;34m(\u001b[0m\u001b[0ms\u001b[0m\u001b[0;34m)\u001b[0m\u001b[0;34m\u001b[0m\u001b[0m\n",
      "\u001b[0;31mIndexError\u001b[0m: list index out of range"
     ]
    }
   ],
   "source": [
    "s=seq_a_lista(seq[2])\n",
    "h=haplos[22]\n",
    "t=h[1]\n",
    "print 'S:', s\n",
    "print ' '.join(s)\n",
    "print 'S_iupac:'\n",
    "si= ''.join(lista_a_iupac(s))\n",
    "print 'si:', si\n",
    "print 'haplo:',h[0]\n",
    "print t\n",
    "ti=seq_a_iupac(t)\n",
    "print ti\n",
    "ti =''.join(ti)\n",
    "print 'ti:',ti"
   ]
  },
  {
   "cell_type": "code",
   "execution_count": null,
   "metadata": {
    "collapsed": true
   },
   "outputs": [],
   "source": [
    "alignments = pairwise2.align.localms(si,ti,2,-1,-5,-10)"
   ]
  },
  {
   "cell_type": "code",
   "execution_count": null,
   "metadata": {
    "collapsed": false
   },
   "outputs": [],
   "source": [
    "for a in alignments:\n",
    "    print '--------------'\n",
    "    print format_alignment(*a)\n",
    "    print a\n",
    "    print seq_compare(a[0], a[1])"
   ]
  },
  {
   "cell_type": "code",
   "execution_count": null,
   "metadata": {
    "collapsed": false
   },
   "outputs": [],
   "source": [
    "print a[0]\n",
    "print a[1]\n",
    "print seq_compare(a[0],a[1])"
   ]
  },
  {
   "cell_type": "code",
   "execution_count": null,
   "metadata": {
    "collapsed": false
   },
   "outputs": [],
   "source": [
    "print iupac_a_seq(a[0])\n",
    "print iupac_a_seq(a[1])\n",
    "print haplo_compare(iupac_a_seq(a[0]),iupac_a_seq(a[1]))\n",
    "\n"
   ]
  },
  {
   "cell_type": "code",
   "execution_count": null,
   "metadata": {
    "collapsed": false
   },
   "outputs": [],
   "source": [
    "print haplo_compare(iupac_a_seq(a[1]),iupac_a_seq(a[0]))\n"
   ]
  },
  {
   "cell_type": "code",
   "execution_count": null,
   "metadata": {
    "collapsed": false
   },
   "outputs": [],
   "source": [
    "p= iupac_a_seq(a[0])\n",
    "q= iupac_a_seq(a[1])\n",
    "r= haplo_compare(iupac_a_seq(a[0]),iupac_a_seq(a[1]))\n",
    "print ''.join(p)\n",
    "print ''.join(q)\n",
    "print ''.join(r[-1])"
   ]
  },
  {
   "cell_type": "code",
   "execution_count": null,
   "metadata": {
    "collapsed": false
   },
   "outputs": [],
   "source": [
    "f=open('prisec.txt')\n",
    "ps=f.readlines()\n",
    "f.close()\n",
    "print len(ps)\n",
    "a=ps[0]\n",
    "b=ps[1]\n",
    "print a\n",
    "print b"
   ]
  },
  {
   "cell_type": "code",
   "execution_count": null,
   "metadata": {
    "collapsed": false
   },
   "outputs": [],
   "source": [
    "ab=unir_haplotipos(a,b)"
   ]
  },
  {
   "cell_type": "code",
   "execution_count": null,
   "metadata": {
    "collapsed": false
   },
   "outputs": [],
   "source": [
    "abseq=lista_a_seq(ab)\n",
    "print abseq"
   ]
  },
  {
   "cell_type": "code",
   "execution_count": null,
   "metadata": {
    "collapsed": false
   },
   "outputs": [],
   "source": [
    "seq_a_lista(abseq)"
   ]
  },
  {
   "cell_type": "code",
   "execution_count": null,
   "metadata": {
    "collapsed": false
   },
   "outputs": [],
   "source": [
    "seq[0]"
   ]
  },
  {
   "cell_type": "code",
   "execution_count": null,
   "metadata": {
    "collapsed": false
   },
   "outputs": [],
   "source": [
    "seqs[0]"
   ]
  }
 ],
 "metadata": {
  "anaconda-cloud": {},
  "kernelspec": {
   "display_name": "Python [default]",
   "language": "python",
   "name": "python2"
  },
  "language_info": {
   "codemirror_mode": {
    "name": "ipython",
    "version": 2
   },
   "file_extension": ".py",
   "mimetype": "text/x-python",
   "name": "python",
   "nbconvert_exporter": "python",
   "pygments_lexer": "ipython2",
   "version": "2.7.13"
  }
 },
 "nbformat": 4,
 "nbformat_minor": 0
}
