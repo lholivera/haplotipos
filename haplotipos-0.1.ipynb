{
 "cells": [
  {
   "cell_type": "markdown",
   "metadata": {},
   "source": [
    "                    GNU GENERAL PUBLIC LICENSE\n",
    "                       Version 3, 29 June 2007"
   ]
  },
  {
   "cell_type": "code",
   "execution_count": null,
   "metadata": {
    "collapsed": false
   },
   "outputs": [],
   "source": [
    "from Bio import SeqIO\n",
    "# para leer fasta"
   ]
  },
  {
   "cell_type": "code",
   "execution_count": null,
   "metadata": {
    "collapsed": false
   },
   "outputs": [],
   "source": [
    "#lectura de secuencias objetivo\n",
    "records=list(SeqIO.parse(\"DQB 9F.fa\", \"fasta\"))\n",
    "\n",
    "#Aqui deberia prever la lectura de los leidos del cromatograma en R"
   ]
  },
  {
   "cell_type": "code",
   "execution_count": null,
   "metadata": {
    "collapsed": false
   },
   "outputs": [],
   "source": [
    "records[0]"
   ]
  },
  {
   "cell_type": "code",
   "execution_count": null,
   "metadata": {
    "collapsed": false
   },
   "outputs": [],
   "source": [
    "#convierto las secuencias a strings y dscripciones\n",
    "seq=[str(r.seq) for r in records]\n",
    "desc=[str(r.description).strip() for r in records]\n",
    "print desc[1]\n",
    "print seq[1]\n",
    "#convierto las secuencias en strings - OJO QUE DEJO EL ID\n"
   ]
  },
  {
   "cell_type": "code",
   "execution_count": null,
   "metadata": {
    "collapsed": false
   },
   "outputs": [],
   "source": [
    "def seq_a_lista(s):\n",
    "    #recibe un string y devuelve una lista\n",
    "    # proceso las [A/G] eliminando los [] y uniendo los dos valores en torno a / como listas\n",
    "    # TODO: ver que pasa con los [./.]. De movida debe quedar .. ya que no estoy usando sets, que eliminarian la duplicación\n",
    "    s=s.replace('[','').replace(']','')\n",
    "    sl= [x for x in s]\n",
    "    for i,x in enumerate(sl):\n",
    "        if x=='/':\n",
    "            sl[i-1]+=sl[i+1]\n",
    "            del sl[i:i+2]\n",
    "    return sl\n",
    "\n",
    "def lista_a_seq(l):\n",
    "    '''recibe una lista y devuelve un string con corchetes y barra en los polimorfismos\n",
    "    '''\n",
    "    ll=[x if len(x)<2 else '[' + x[0] + '/' + x[1] + ']' for x in l] #'/'.join(x)\n",
    "    return ''.join(ll)\n",
    "    \n",
    "def seq_a_string(s):\n",
    "    '''recibe un string con corchetes, lo transforma en lista y lo traduce a IUPAC\n",
    "    '''\n",
    "    return lista_a_iupac(seq_a_lista(s))\n",
    "\n",
    "def guion_a_vacio(l): # creo que ya no se usa, ver. recibe un string o una lista y convierte guiones en vacíos\n",
    "    return [ x if (x<>'-')  else '' for x in la]\n",
    "\n",
    "def vacio_a_guion(l):\n",
    "    '''recibe una lista y convierte los vacíos en guiones -\n",
    "       si recibe un string lo devuelve tal cual\n",
    "    '''\n",
    "    return [ x if x else '-' for x in l]\n",
    "\n",
    "def unir_haplotipos(la,lb):\n",
    "    '''recibe dos listas de haplotipos de referencia\n",
    "       maneja secuencias con guiones y las convierte a listas con vacíos\n",
    "       devuelve una lista de la union de las dos listas elemento a elemento como conjunto (sin duplicados)\n",
    "    '''\n",
    "    la=[ x if (x<>'-')  else '' for x in la]\n",
    "    lb=[ x if (x<>'-')  else '' for x in lb]\n",
    "    return [''.join(list(set(la[i]+lb[i]))) for i in range(len(la))]\n",
    "\n",
    "def ref_haplo(la):\n",
    "    '''recibe un haplotipo de referencia, con los guiones convertidos en vacíos\n",
    "       completa los guiones - con los datos del haplotipo de referencia\n",
    "       \n",
    "    '''\n",
    "    return [ refseq[i] if not x or x=='-'  else x for i,x in enumerate(la)]\n",
    "    #return [ x if (x in 'ACGT')  else refseq[i] for i,x in enumerate(la)] ## no son equivalentes, y este funciona siempre? Ver   "
   ]
  },
  {
   "cell_type": "code",
   "execution_count": null,
   "metadata": {
    "collapsed": false
   },
   "outputs": [],
   "source": [
    "print len(seq)"
   ]
  },
  {
   "cell_type": "code",
   "execution_count": null,
   "metadata": {
    "collapsed": false
   },
   "outputs": [],
   "source": [
    "for s in seq: #imprimo separado por espacios para ver\n",
    "    print ' '.join(seq_a_lista(s))"
   ]
  },
  {
   "cell_type": "code",
   "execution_count": null,
   "metadata": {
    "collapsed": false
   },
   "outputs": [],
   "source": [
    "#lectura del alineamiento\n",
    "f=open('alineamiento DQB1.txt')\n",
    "lineas=f.readlines()\n",
    "\n",
    "# Queda en el diccionario d hasheado por id\n",
    "d={}\n",
    "ref=''\n",
    "for i,l in enumerate(lineas):\n",
    "    if (len(l)>20 and l[0]==' ' and l[1]!=' '): # uso un patron para identificar las lineas con datos\n",
    "        id= l[:20].strip() #las corto por ancho fijo del id\n",
    "        #print i, id\n",
    "        sseq= l[21:].replace(' ','').rstrip() # elimino espacis\n",
    "        #print id\n",
    "        #print seq\n",
    "        if id in d.keys(): # y las guardo (concatenadas) en un diccionario indexado por id\n",
    "            d[id]+=sseq\n",
    "        else:\n",
    "            d[id]=sseq\n",
    "        if not ref: ref=id # me estoy quedando con la primera secuencia asumiendo que es la de referencia\n",
    "        d[id]=d[id].replace('*','-')\n",
    "f.close()\n"
   ]
  },
  {
   "cell_type": "code",
   "execution_count": null,
   "metadata": {
    "collapsed": false
   },
   "outputs": [],
   "source": [
    "# no hace falta, pero pongo la secuencia de referencia en esta variable (despues reorganizo) ## La uso??\n",
    "ref\n",
    "refseq = d[ref]\n",
    "print ref, refseq"
   ]
  },
  {
   "cell_type": "code",
   "execution_count": null,
   "metadata": {
    "collapsed": false
   },
   "outputs": [],
   "source": [
    "seqs=[]\n",
    "for s in seq:\n",
    "    seqs.append(seq_a_lista(s))\n",
    "print seqs"
   ]
  },
  {
   "cell_type": "code",
   "execution_count": null,
   "metadata": {
    "collapsed": true
   },
   "outputs": [],
   "source": [
    "print seqs[0]"
   ]
  },
  {
   "cell_type": "code",
   "execution_count": null,
   "metadata": {
    "collapsed": false
   },
   "outputs": [],
   "source": [
    "print len(d), d.keys()"
   ]
  },
  {
   "cell_type": "code",
   "execution_count": null,
   "metadata": {
    "collapsed": false
   },
   "outputs": [],
   "source": [
    "#Generación de todos los haplotipos posibles\n",
    "haplos=[]\n",
    "hh=d.keys()\n",
    "f=open('haplos.log','w')\n",
    "\n",
    "def log(l): #aca defino la funcion para generar los logs\n",
    "    for x in l:\n",
    "        f.write(str(x))\n",
    "    f.write('\\n')\n",
    "    \n",
    "for x in hh:\n",
    "    for y in hh:\n",
    "        log((x,y))#print x,y\n",
    "        log(('x :', d[x]))#print 'x:', d[x]\n",
    "        log(('y :', d[y]))#print 'y:', d[y]\n",
    "        log(('xr:',ref_haplo(d[x])))\n",
    "        log(('yr:',ref_haplo(d[y])))\n",
    "        dd= unir_haplotipos(ref_haplo(d[x]), ref_haplo(d[y]))\n",
    "        log(('z0:', lista_a_seq((dd))))\n",
    "        log(('z1:', lista_a_seq(vacio_a_guion(dd))))\n",
    "        log(('z2:', lista_a_seq(dd)))\n",
    "        log(('z3:', dd))\n",
    "        haplos.append([[x,y],dd])\n",
    "\n",
    "f.close()"
   ]
  },
  {
   "cell_type": "markdown",
   "metadata": {},
   "source": [
    "- Leer archivo(s) de lecturas\n",
    "- Leer archivo(s) de haplotipos\n",
    "- Generar archivo de ranking\n",
    "    En el original:\n",
    "        * lectura, par de haplos, ranking, diferencias\n"
   ]
  },
  {
   "cell_type": "code",
   "execution_count": null,
   "metadata": {
    "collapsed": false
   },
   "outputs": [],
   "source": [
    "print len(haplos), len(hh), len(hh)*len(hh)\n",
    "print hh[11], haplos[11]"
   ]
  },
  {
   "cell_type": "code",
   "execution_count": null,
   "metadata": {
    "collapsed": false
   },
   "outputs": [],
   "source": [
    "print len(seqs)"
   ]
  },
  {
   "cell_type": "code",
   "execution_count": null,
   "metadata": {
    "collapsed": true
   },
   "outputs": [],
   "source": [
    "for ss in seqs:\n",
    "    print lista_a_seq(ss)"
   ]
  },
  {
   "cell_type": "code",
   "execution_count": null,
   "metadata": {
    "collapsed": false
   },
   "outputs": [],
   "source": [
    "s=seqs[0]\n",
    "print s\n",
    "print ':', lista_a_seq(s)\n",
    "#print s, len(s)\n",
    "print 'haplos:', haplos[4]\n",
    "h=ref_haplo(haplos[4][1])\n",
    "print 'h:',lista_a_seq(h)\n",
    "#print h, len(h)"
   ]
  },
  {
   "cell_type": "code",
   "execution_count": null,
   "metadata": {
    "collapsed": false
   },
   "outputs": [],
   "source": [
    "print refseq\n",
    "print h\n"
   ]
  },
  {
   "cell_type": "code",
   "execution_count": null,
   "metadata": {
    "collapsed": false
   },
   "outputs": [],
   "source": [
    "IUPAC={\n",
    "'A':'A',\n",
    "'C':'C',\n",
    "'G':'G',\n",
    "'T':'T',\n",
    "'U':'U',\n",
    "'AG':'R',\n",
    "'CT':'Y',\n",
    "'CG':'S',\n",
    "'AT':'W',\n",
    "'GT':'K',\n",
    "'AC':'M',\n",
    "'CGT':'B',\n",
    "'AGT':'D',\n",
    "'ACT':'H',\n",
    "'ACG':'V',\n",
    "'ACGT':'N',\n",
    "'.':'.',\n",
    "'-':'-'\n",
    "}"
   ]
  },
  {
   "cell_type": "code",
   "execution_count": null,
   "metadata": {
    "collapsed": false
   },
   "outputs": [],
   "source": [
    "IUPAC['AG']"
   ]
  },
  {
   "cell_type": "code",
   "execution_count": null,
   "metadata": {
    "collapsed": false
   },
   "outputs": [],
   "source": [
    "IUPAC_1=dict([ [x[1],x[0]] for x in list(IUPAC.items())])"
   ]
  },
  {
   "cell_type": "code",
   "execution_count": null,
   "metadata": {
    "collapsed": false
   },
   "outputs": [],
   "source": [
    "IUPAC_1['H']"
   ]
  },
  {
   "cell_type": "code",
   "execution_count": null,
   "metadata": {
    "collapsed": false
   },
   "outputs": [],
   "source": [
    "s='ACGTRYSWMBHVN'\n",
    "s='AHRV'\n",
    "def iupac_a_seq(s):\n",
    "    t=[]\n",
    "    for x in s:\n",
    "        t.append(IUPAC_1[x])\n",
    "    return t\n",
    "iupac_a_seq(s)"
   ]
  },
  {
   "cell_type": "code",
   "execution_count": null,
   "metadata": {
    "collapsed": false
   },
   "outputs": [],
   "source": [
    "s=['A', 'C', 'G', 'T', 'GA', 'CT', 'CG', 'AT', 'AC', 'CGT', 'ACT', 'ACG', 'ACGT']\n",
    "\n",
    "def lista_a_iupac(s):\n",
    "    ''' Recibe una lista del tipo del ejemplo, la pasa a iupac, devuelve string\n",
    "    '''\n",
    "    t=[]\n",
    "    for x in s:\n",
    "        t.append(IUPAC[''.join(sorted(list(x)))])\n",
    "    return ''.join(t)\n",
    "lista_a_iupac(s)"
   ]
  },
  {
   "cell_type": "code",
   "execution_count": null,
   "metadata": {
    "collapsed": false
   },
   "outputs": [],
   "source": [
    "def seq_compare(s,t): #se supone que estan alineados y tienen la misma longitud\n",
    "    match=0 \n",
    "    nomatch=0 \n",
    "    compared=0\n",
    "    nocompared=0\n",
    "    total=len(s)\n",
    "    #print 'S T i M N C'\n",
    "    for i, x in enumerate(s):\n",
    "        y=t[i]\n",
    "        if x=='-' or y=='-':\n",
    "            nocompared+=1\n",
    "        elif x==y: \n",
    "            match +=1\n",
    "            compared +=1\n",
    "        else:\n",
    "            nomatch +=1\n",
    "            compared +=1\n",
    "        #print x, t[i], i, match, nomatch, compared\n",
    "        \n",
    "    return (match, nomatch, compared, nocompared, total)\n",
    "\n",
    "def haplo_compare(s,t): #se supone que estan alineados y tienen la misma longitud\n",
    "    comp=[]\n",
    "    match=0 \n",
    "    nomatch=0 \n",
    "    compared=0\n",
    "    nocompared=0\n",
    "    total=len(s)\n",
    "    #print 'S T i M N C'\n",
    "    for i, x in enumerate(s):\n",
    "        yi=set(t[i])\n",
    "        xi=set(x)\n",
    "        if xi==set('-') or yi==set('-'):\n",
    "            nocompared+=1\n",
    "            comp +='-'\n",
    "        elif xi.issubset(yi): \n",
    "            match +=1\n",
    "            compared +=1\n",
    "            comp +='|'\n",
    "        else:\n",
    "            nomatch +=1\n",
    "            compared +=1\n",
    "            comp +='X'\n",
    "        #print x, t[i], i, match, nomatch, compared\n",
    "        \n",
    "    return [match, nomatch, compared, nocompared, total, ''.join(comp)]\n",
    "seq_compare('ASDFGH','ASEF-H')"
   ]
  },
  {
   "cell_type": "code",
   "execution_count": null,
   "metadata": {
    "collapsed": false
   },
   "outputs": [],
   "source": [
    "seq_compare(refseq, refseq)"
   ]
  },
  {
   "cell_type": "code",
   "execution_count": null,
   "metadata": {
    "collapsed": false
   },
   "outputs": [],
   "source": [
    "# prueba del algoritmo de alineamiento\n",
    "# para adaptarse a las diferencias sin introducir gap\n",
    "# -> local y no global, penalizando altamente el gap (habria que buscar un mínimo)\n",
    "f=open('alineamiento.txt','w')\n",
    "from Bio import pairwise2\n",
    "from Bio.pairwise2 import format_alignment\n",
    "s=lista_a_seq(s)\n",
    "h1=lista_a_seq(h[1])\n",
    "alignments = pairwise2.align.localms(refseq,h1[:200],2,-1,-5,-10)\n",
    "log(('#alignements=',len(alignments)))\n",
    "for a in alignments:\n",
    "    log(('--------------'))\n",
    "    log((format_alignment(*a)))\n",
    "    log(('a=',a))\n",
    "    log(('seq_compare',seq_compare(a[0], a[1])))\n",
    "#    print '--------------'\n",
    "#    print format_alignment(*a)\n",
    "#    print a\n",
    "#    print seq_compare(a[0], a[1])\n",
    "\n",
    "def alinear(s,t):\n",
    "#    print 'align:'\n",
    "#    print 's:', s\n",
    "#    print 't:', t\n",
    "    #log(('align:'))\n",
    "    #log(('s:', s))\n",
    "    #log(('t:', t))\n",
    "    al = pairwise2.align.localms(s,t,2,-1,-5,-10)\n",
    "#    for a in al:\n",
    " #       log(('--------------'))\n",
    "  #      log((format_alignment(*a)))\n",
    "   #     log(('a=',a))\n",
    "    #    log(('seq_compare',seq_compare(a[0], a[1])))\n",
    "    \n",
    "    #log((a[0][0], a[0][1]))\n",
    "    #log(('pairwise'))\n",
    "    #log((a))\n",
    "\n",
    "    return al[0][0], al[0][1]\n",
    "f.close()"
   ]
  },
  {
   "cell_type": "code",
   "execution_count": null,
   "metadata": {
    "collapsed": false
   },
   "outputs": [],
   "source": [
    "s"
   ]
  },
  {
   "cell_type": "code",
   "execution_count": null,
   "metadata": {
    "collapsed": false
   },
   "outputs": [],
   "source": [
    "print h[1]"
   ]
  },
  {
   "cell_type": "code",
   "execution_count": null,
   "metadata": {
    "collapsed": false
   },
   "outputs": [],
   "source": [
    "q='GTCATYTGDGTDGCDGGYTCDCC'\n",
    "q='TTGAGBARRCCRTACATRAGC'\n",
    "q='GGGCTRACRAARGCYCKRTCCC'\n",
    "q='CCHTACAAYGCYGATTTYGACG'\n",
    "q='GCTYATGTAYGGYYTVCTCAA'\n",
    "q='GCTYTDCCKGGYATGAAYGTYCG'\n",
    "r=iupac_a_seq(q)\n",
    "print r"
   ]
  },
  {
   "cell_type": "code",
   "execution_count": null,
   "metadata": {
    "collapsed": false
   },
   "outputs": [],
   "source": [
    "#esto es lo que hice para Suani!!!\n",
    "\n",
    "def gen(s,a=''):\n",
    "    if len(s)>1:        #print len(s)\n",
    "        for x in s[0]:\n",
    "            gen(s[1:],a+x)\n",
    "    else:               #es el ultimo, cerrar\n",
    "        for x in s[0]:\n",
    "            print a + x\n",
    "s=r  \n",
    "gen(s) "
   ]
  },
  {
   "cell_type": "code",
   "execution_count": null,
   "metadata": {
    "collapsed": false
   },
   "outputs": [],
   "source": [
    "hap=open('haplos.txt','w')\n",
    "for h in haplos:\n",
    "    hap.write(str(h[0]) + ' ' + lista_a_seq(h[1]) + '\\n')\n",
    "hap.close()"
   ]
  },
  {
   "cell_type": "markdown",
   "metadata": {},
   "source": [
    "bak='''\n",
    "for i,s in enumerate(seq):\n",
    "    f=open(desc[i]+'comparacion.txt','w')\n",
    "    print i,':',s\n",
    "    for j,h in enumerate(haplos):\n",
    "        print j,\n",
    "        h1=h[1]\n",
    "        s1=seq_a_lista(s)\n",
    "        h1=h[1]\n",
    "        log(('------------------\\n')) #print '-------------------'\n",
    "        x, y= alinear(lista_a_iupac(s1),lista_a_iupac(h1)) #\n",
    "        res=haplo_compare(x,y)\n",
    "        log((h[0]))\n",
    "        log((x))\n",
    "        log((str(''.join(res[-1]))))\n",
    "        log((y))\n",
    "        log(('match, nomatch, compared, nocompared, total, comp'))\n",
    "        log((str(res[:-1])+'\\n'))\n",
    "    f.close()\n",
    "'''"
   ]
  },
  {
   "cell_type": "code",
   "execution_count": null,
   "metadata": {
    "collapsed": false
   },
   "outputs": [],
   "source": [
    "for i,s in enumerate(seq):\n",
    "    r=open(desc[i]+'comparacion.txt','w')\n",
    "    rank=[]\n",
    "    print i,':',s\n",
    "    for j,h in enumerate(haplos):\n",
    "        print j,\n",
    "        h1=h[1]\n",
    "        #print 'h1:',h1\n",
    "        #print lista_a_iupac(h1)\n",
    "        s1=seq_a_lista(s)\n",
    "        #print 's1:',s1\n",
    "        #print lista_a_iupac(s1)\n",
    "        #log(('------------------\\n')) #print '-------------------'\n",
    "        x, y= alinear(lista_a_iupac(s1),lista_a_iupac(h1)) #\n",
    "        res=haplo_compare(x,y)\n",
    "        res.extend([h[0],x,y])\n",
    "        rank.append(res)\n",
    "        debug='''\n",
    "        log((h[0])) # los id\n",
    "        log((x))\n",
    "        log((str(''.join(res[-1]))))\n",
    "        log((y))\n",
    "        log(('match, nomatch, compared, nocompared, total, comp'))\n",
    "        log((str(res[:-1])+'\\n'))\n",
    "        print((h[0])) # los id\n",
    "        print((x))\n",
    "        print((str(''.join(res[-1]))))\n",
    "        print((y))\n",
    "        print(('match, nomatch, compared, nocompared, total, comp'))\n",
    "        print((str(res[:-1])+'\\n'))\n",
    "        '''\n",
    "    #print 'sorting...'\n",
    "    rank.sort(reverse=True)\n",
    "    #r=open('rank.txt','w')\n",
    "    for x in rank:\n",
    "        r.write('Haplotipo: '+ ' '.join(x[6])+'\\n')\n",
    "        r.write(', '.join([str(xx) for xx in x[:5]])+'\\n')\n",
    "        r.write(str(x[7])+'\\n')\n",
    "        r.write(str(x[5])+'\\n')\n",
    "        r.write(str(x[8])+'\\n\\n')\n",
    "    \n",
    "    r.close()"
   ]
  },
  {
   "cell_type": "code",
   "execution_count": null,
   "metadata": {
    "collapsed": false
   },
   "outputs": [],
   "source": [
    "rank.sort(reverse=True)\n",
    "r=open('rank.txt','w')\n",
    "for x in rank:\n",
    "    r.write('Haplotipo: '+ ' '.join(x[6])+'\\n')\n",
    "    r.write(', '.join([str(xx) for xx in x[:5]])+'\\n')\n",
    "    r.write(str(x[7])+'\\n')\n",
    "    r.write(str(x[5])+'\\n')\n",
    "    r.write(str(x[8])+'\\n\\n')\n",
    "    \n",
    "r.close()"
   ]
  },
  {
   "cell_type": "code",
   "execution_count": null,
   "metadata": {
    "collapsed": false
   },
   "outputs": [],
   "source": [
    " f.close()"
   ]
  },
  {
   "cell_type": "code",
   "execution_count": null,
   "metadata": {
    "collapsed": false
   },
   "outputs": [],
   "source": [
    "s=seq_a_lista(seq[2])\n",
    "h=haplos[22]\n",
    "t=h[1]\n",
    "print 'S:', s\n",
    "print ' '.join(s)\n",
    "print 'S_iupac:'\n",
    "si= ''.join(lista_a_iupac(s))\n",
    "print 'si:', si\n",
    "print 'haplo:',h[0]\n",
    "print t\n",
    "ti=seq_a_iupac(t)\n",
    "print ti\n",
    "ti =''.join(ti)\n",
    "print 'ti:',ti"
   ]
  },
  {
   "cell_type": "code",
   "execution_count": null,
   "metadata": {
    "collapsed": true
   },
   "outputs": [],
   "source": [
    "alignments = pairwise2.align.localms(si,ti,2,-1,-5,-10)"
   ]
  },
  {
   "cell_type": "code",
   "execution_count": null,
   "metadata": {
    "collapsed": false
   },
   "outputs": [],
   "source": [
    "for a in alignments:\n",
    "    print '--------------'\n",
    "    print format_alignment(*a)\n",
    "    print a\n",
    "    print seq_compare(a[0], a[1])"
   ]
  },
  {
   "cell_type": "code",
   "execution_count": null,
   "metadata": {
    "collapsed": false
   },
   "outputs": [],
   "source": [
    "print a[0]\n",
    "print a[1]\n",
    "print seq_compare(a[0],a[1])"
   ]
  },
  {
   "cell_type": "code",
   "execution_count": null,
   "metadata": {
    "collapsed": false
   },
   "outputs": [],
   "source": [
    "print iupac_a_seq(a[0])\n",
    "print iupac_a_seq(a[1])\n",
    "print haplo_compare(iupac_a_seq(a[0]),iupac_a_seq(a[1]))\n",
    "\n"
   ]
  },
  {
   "cell_type": "code",
   "execution_count": null,
   "metadata": {
    "collapsed": false
   },
   "outputs": [],
   "source": [
    "print haplo_compare(iupac_a_seq(a[1]),iupac_a_seq(a[0]))\n"
   ]
  },
  {
   "cell_type": "code",
   "execution_count": null,
   "metadata": {
    "collapsed": false
   },
   "outputs": [],
   "source": [
    "p= iupac_a_seq(a[0])\n",
    "q= iupac_a_seq(a[1])\n",
    "r= haplo_compare(iupac_a_seq(a[0]),iupac_a_seq(a[1]))\n",
    "print ''.join(p)\n",
    "print ''.join(q)\n",
    "print ''.join(r[-1])"
   ]
  },
  {
   "cell_type": "code",
   "execution_count": null,
   "metadata": {
    "collapsed": false
   },
   "outputs": [],
   "source": [
    "f=open('prisec.txt')\n",
    "ps=f.readlines()\n",
    "f.close()\n",
    "print len(ps)\n",
    "a=ps[0]\n",
    "b=ps[1]\n",
    "print a\n",
    "print b"
   ]
  },
  {
   "cell_type": "code",
   "execution_count": null,
   "metadata": {
    "collapsed": false
   },
   "outputs": [],
   "source": [
    "ab=unir_haplotipos(a,b)"
   ]
  },
  {
   "cell_type": "code",
   "execution_count": null,
   "metadata": {
    "collapsed": false
   },
   "outputs": [],
   "source": [
    "abseq=lista_a_seq(ab)\n",
    "print abseq"
   ]
  },
  {
   "cell_type": "code",
   "execution_count": null,
   "metadata": {
    "collapsed": false
   },
   "outputs": [],
   "source": [
    "seq_a_lista(abseq)"
   ]
  },
  {
   "cell_type": "code",
   "execution_count": null,
   "metadata": {
    "collapsed": false
   },
   "outputs": [],
   "source": [
    "seq[0]"
   ]
  },
  {
   "cell_type": "code",
   "execution_count": null,
   "metadata": {
    "collapsed": false
   },
   "outputs": [],
   "source": [
    "seqs[0]"
   ]
  }
 ],
 "metadata": {
  "anaconda-cloud": {},
  "kernelspec": {
   "display_name": "Python [default]",
   "language": "python",
   "name": "python2"
  },
  "language_info": {
   "codemirror_mode": {
    "name": "ipython",
    "version": 2
   },
   "file_extension": ".py",
   "mimetype": "text/x-python",
   "name": "python",
   "nbconvert_exporter": "python",
   "pygments_lexer": "ipython2",
   "version": "2.7.12"
  }
 },
 "nbformat": 4,
 "nbformat_minor": 0
}
